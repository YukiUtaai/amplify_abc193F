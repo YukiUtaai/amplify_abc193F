{
 "cells": [
  {
   "cell_type": "code",
   "execution_count": 1,
   "metadata": {},
   "outputs": [],
   "source": [
    "from amplify import gen_symbols, BinaryPoly, IsingPoly\n",
    "from amplify import sum_poly\n",
    "from amplify.constraint import equal_to\n",
    "import matplotlib.pyplot as plt\n",
    "from amplify import Solver\n",
    "from amplify.client import FixstarsClient\n",
    "import matplotlib.ticker as ticker   \n",
    "import os"
   ]
  },
  {
   "cell_type": "code",
   "execution_count": 2,
   "metadata": {},
   "outputs": [],
   "source": [
    "def q_annealing(n, c):\n",
    "    s = gen_symbols(IsingPoly, n+1, n+1)\n",
    "\n",
    "    # 確定しているもののスピンを確定------------------------------------------\n",
    "    for i in range(n):\n",
    "        for j in range(n):\n",
    "            if c[i][j] == \"B\":\n",
    "                s[i][j] = 1\n",
    "            if c[i][j] == \"W\":\n",
    "                s[i][j] = -1\n",
    "\n",
    "    # ハミルトニアン1 コスト項　反強磁性イジングモデル-----------------------------------\n",
    "    f = 0\n",
    "    for i in range(n):\n",
    "        for j in range(n):\n",
    "            if i != n-1:\n",
    "                f += s[i][j] * s[i+1][j]\n",
    "            if j != n-1:\n",
    "                f += s[i][j] * s[i][j+1]\n",
    "\n",
    "    # n=1のときや？が存在しないケースに対応するためにまったく関係ないスピンを追加\n",
    "    # スピンは必ず-1になるので+1を足して打ち消し\n",
    "    f += s[n][n] + 1 \n",
    "                \n",
    "    model = f  \n",
    "    \n",
    "    # 計算実行------------------------------------------------------------------------------------------\n",
    "    client = FixstarsClient()\n",
    "    with open(\"tokenfile.txt\", \"r\") as f:\n",
    "        token = f.readline()\n",
    "    client.token = token\n",
    "    client.parameters.timeout = 9000  # タイムアウト9秒\n",
    "    solver = Solver(client)\n",
    "\n",
    "    result = solver.solve(model)\n",
    "    if len(result) == 0:\n",
    "        raise RuntimeError(\"Any one of constraints is not satisfied.\")\n",
    "\n",
    "    energy, values = result[0].energy, result[0].values\n",
    "    \n",
    "    return int((2*n*(n-1) -energy)/2)"
   ]
  },
  {
   "cell_type": "code",
   "execution_count": null,
   "metadata": {},
   "outputs": [],
   "source": [
    "\n",
    "# テストケース読み込み\n",
    "# https://www.dropbox.com/sh/nx3tnilzqz7df8a/AACpUzqOotp665-GQMdAbHJua/ABC193/F?dl=0&subfolder_nav_tracking=1\n",
    "\n",
    "files = os.listdir(\"ABC193F/in\")\n",
    "for file in files:\n",
    "    with open(\"ABC193F/in/\" + file, \"r\") as f:\n",
    "        n = int(f.readline())\n",
    "        c = [f.readline() for i in range(n)] \n",
    "        \n",
    "    with open(\"ABC193F/out/\" + file, \"r\") as f:\n",
    "        ans = int(f.readline())\n",
    "\n",
    "    try:\n",
    "        result = q_annealing(n, c)\n",
    "        print(file, \"Amplify結果 =\", result, \"正解 =\", ans)\n",
    "    except:\n",
    "        pass\n"
   ]
  },
  {
   "cell_type": "code",
   "execution_count": null,
   "metadata": {},
   "outputs": [],
   "source": []
  }
 ],
 "metadata": {
  "kernelspec": {
   "display_name": "Python 3",
   "language": "python",
   "name": "python3"
  },
  "language_info": {
   "codemirror_mode": {
    "name": "ipython",
    "version": 3
   },
   "file_extension": ".py",
   "mimetype": "text/x-python",
   "name": "python",
   "nbconvert_exporter": "python",
   "pygments_lexer": "ipython3",
   "version": "3.8.5"
  }
 },
 "nbformat": 4,
 "nbformat_minor": 4
}
