{
 "cells": [
  {
   "cell_type": "code",
   "execution_count": 6,
   "metadata": {},
   "outputs": [],
   "source": [
    "from amplify import gen_symbols, BinaryPoly, IsingPoly\n",
    "from amplify import sum_poly\n",
    "from amplify.constraint import equal_to\n",
    "import matplotlib.pyplot as plt\n",
    "from amplify import Solver\n",
    "from amplify.client import FixstarsClient\n",
    "import matplotlib.ticker as ticker   \n",
    "import os"
   ]
  },
  {
   "cell_type": "code",
   "execution_count": 7,
   "metadata": {},
   "outputs": [],
   "source": [
    "def q_annealing(n, c):\n",
    "    s = gen_symbols(IsingPoly, n, n)\n",
    "\n",
    "    # 確定しているもののスピンを確定------------------------------------------\n",
    "    for i in range(n):\n",
    "        for j in range(n):\n",
    "            if c[i][j] == \"B\":\n",
    "                s[i][j] = 1\n",
    "            if c[i][j] == \"W\":\n",
    "                s[i][j] = -1\n",
    "\n",
    "    # QUBO1 コスト項　反強磁性イジングモデル-----------------------------------\n",
    "    f = 0\n",
    "    for i in range(n):\n",
    "        for j in range(n):\n",
    "            if i != n-1:\n",
    "                f += s[i][j] * s[i+1][j]\n",
    "            if j != n-1:\n",
    "                f += s[i][j] * s[i][j+1]\n",
    "\n",
    "    model = f  \n",
    "    \n",
    "    # 計算実行------------------------------------------------------------------------------------------\n",
    "    client = FixstarsClient()\n",
    "    with open(\"tokenfile.txt\", \"r\") as f:\n",
    "        token = f.readline()\n",
    "    client.token = token\n",
    "    client.parameters.timeout = 9000  # タイムアウト9秒\n",
    "    solver = Solver(client)\n",
    "\n",
    "    result = solver.solve(model)\n",
    "    if len(result) == 0:\n",
    "        raise RuntimeError(\"Any one of constraints is not satisfied.\")\n",
    "\n",
    "    energy, values = result[0].energy, result[0].values\n",
    "\n",
    "    return int((2*n*(n-1) -energy)/2)"
   ]
  },
  {
   "cell_type": "code",
   "execution_count": null,
   "metadata": {},
   "outputs": [
    {
     "name": "stdout",
     "output_type": "stream",
     "text": [
      "02_sample.txt Amplify結果= 4 正解= 4\n",
      "03_sample.txt Amplify結果= 40 正解= 40\n",
      "06_small.txt Amplify結果= 81 正解= 81\n",
      "08_small.txt Amplify結果= 39 正解= 39\n",
      "09_small.txt Amplify結果= 84 正解= 84\n",
      "10_small.txt Amplify結果= 39 正解= 39\n",
      "11_small.txt Amplify結果= 62 正解= 62\n",
      "12_small.txt Amplify結果= 7 正解= 7\n",
      "13_small.txt Amplify結果= 73 正解= 73\n",
      "14_small.txt Amplify結果= 10 正解= 10\n",
      "16_small.txt Amplify結果= 48 正解= 48\n",
      "18_large.txt Amplify結果= 5535 正解= 5535\n",
      "19_large.txt Amplify結果= 3690 正解= 3690\n",
      "20_large.txt Amplify結果= 103 正解= 103\n",
      "22_large.txt Amplify結果= 4442 正解= 4442\n",
      "23_large.txt Amplify結果= 8550 正解= 8550\n",
      "24_large.txt Amplify結果= 14696 正解= 14702\n",
      "25_large.txt Amplify結果= 8635 正解= 8635\n",
      "26_large.txt Amplify結果= 13750 正解= 13750\n",
      "28_max.txt Amplify結果= 11358 正解= 11358\n",
      "29_max.txt Amplify結果= 12739 正解= 12739\n",
      "30_max.txt Amplify結果= 13885 正解= 13885\n"
     ]
    }
   ],
   "source": [
    "\"\"\"\n",
    "# atcoder入力形式\n",
    "n = int(input())\n",
    "c = [input() for i in range(n)]\n",
    "\n",
    "\"\"\"\n",
    "\n",
    "# テストケース読み込み\n",
    "# https://www.dropbox.com/sh/nx3tnilzqz7df8a/AACpUzqOotp665-GQMdAbHJua/ABC193/F?dl=0&subfolder_nav_tracking=1\n",
    "\n",
    "files = os.listdir(\"in\")\n",
    "for file in files:\n",
    "    with open(\"in/\" + file, \"r\") as f:\n",
    "        n = int(f.readline())\n",
    "        c = [f.readline() for i in range(n)]\n",
    "    with open(\"out/\" + file, \"r\") as f:\n",
    "        ans = int(f.readline())\n",
    "\n",
    "    try:\n",
    "        result = q_annealing(n, c)\n",
    "        print(file, \"Amplify結果=\", result, \"正解=\", ans)\n",
    "    except:\n",
    "        pass\n"
   ]
  }
 ],
 "metadata": {
  "kernelspec": {
   "display_name": "Python 3",
   "language": "python",
   "name": "python3"
  },
  "language_info": {
   "codemirror_mode": {
    "name": "ipython",
    "version": 3
   },
   "file_extension": ".py",
   "mimetype": "text/x-python",
   "name": "python",
   "nbconvert_exporter": "python",
   "pygments_lexer": "ipython3",
   "version": "3.8.5"
  }
 },
 "nbformat": 4,
 "nbformat_minor": 4
}
